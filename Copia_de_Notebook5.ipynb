{
  "nbformat": 4,
  "nbformat_minor": 0,
  "metadata": {
    "colab": {
      "provenance": [],
      "authorship_tag": "ABX9TyP7cp5Me5j6jkAAWSm/L3Vu",
      "include_colab_link": true
    },
    "kernelspec": {
      "name": "python3",
      "display_name": "Python 3"
    },
    "language_info": {
      "name": "python"
    }
  },
  "cells": [
    {
      "cell_type": "markdown",
      "metadata": {
        "id": "view-in-github",
        "colab_type": "text"
      },
      "source": [
        "<a href=\"https://colab.research.google.com/github/Analia-Rivera/-Ejercicios/blob/main/Copia_de_Notebook5.ipynb\" target=\"_parent\"><img src=\"https://colab.research.google.com/assets/colab-badge.svg\" alt=\"Open In Colab\"/></a>"
      ]
    },
    {
      "cell_type": "code",
      "execution_count": null,
      "metadata": {
        "id": "J0e7JMJ5S6-e"
      },
      "outputs": [],
      "source": [
        "\n",
        "  # importar numpy\n",
        "  import numpy as np"
      ]
    },
    {
      "cell_type": "code",
      "source": [
        "  #1 Arreglos de cero de longitud 12\n",
        "  array_ceros= np.zeros(12)\n",
        "  print (array_ceros)\n",
        "  len(array_ceros)"
      ],
      "metadata": {
        "colab": {
          "base_uri": "https://localhost:8080/"
        },
        "id": "vZJxBfXHiLF0",
        "outputId": "ae174f56-96ba-4f17-99e7-101a0ae90bfb"
      },
      "execution_count": null,
      "outputs": [
        {
          "output_type": "stream",
          "name": "stdout",
          "text": [
            "[0. 0. 0. 0. 0. 0. 0. 0. 0. 0. 0. 0.]\n"
          ]
        },
        {
          "output_type": "execute_result",
          "data": {
            "text/plain": [
              "12"
            ]
          },
          "metadata": {},
          "execution_count": 7
        }
      ]
    },
    {
      "cell_type": "code",
      "source": [
        "  #2 Arreglos de longitud 10 con ceros y un 10 en posicion 5\n",
        "  array_cdiez= np.zeros(10)\n",
        "  array_cdiez[5]=10\n",
        "  print (array_cdiez)\n",
        "\n",
        "\n"
      ],
      "metadata": {
        "colab": {
          "base_uri": "https://localhost:8080/"
        },
        "id": "YbXGO3edl_Tb",
        "outputId": "c40fde5f-3ecf-4ceb-9a5c-ef88d66732a1"
      },
      "execution_count": null,
      "outputs": [
        {
          "output_type": "stream",
          "name": "stdout",
          "text": [
            "[ 0.  0.  0.  0.  0. 10.  0.  0.  0.  0.]\n"
          ]
        }
      ]
    },
    {
      "cell_type": "code",
      "source": [
        "  #3 Arreglo del 10 al 49\n",
        "  array_rango= np.arange(10,50)\n",
        "  print (array_rango)\n",
        "\n"
      ],
      "metadata": {
        "colab": {
          "base_uri": "https://localhost:8080/"
        },
        "id": "g_MyJtpZo8rZ",
        "outputId": "5be234e0-e9dd-48b9-f89a-b1f01b27b168"
      },
      "execution_count": null,
      "outputs": [
        {
          "output_type": "stream",
          "name": "stdout",
          "text": [
            "[10 11 12 13 14 15 16 17 18 19 20 21 22 23 24 25 26 27 28 29 30 31 32 33\n",
            " 34 35 36 37 38 39 40 41 42 43 44 45 46 47 48 49]\n"
          ]
        }
      ]
    },
    {
      "cell_type": "code",
      "source": [
        "  #4 Arreglo 2d de shape (3,3) que tenga los numeros del 0 al 8\n",
        "  array_2d = np.arange (0,9)\n",
        "  array_2d = array_2d.reshape (3,3)\n",
        "  print (array_2d)\n"
      ],
      "metadata": {
        "colab": {
          "base_uri": "https://localhost:8080/"
        },
        "id": "naNDvdTlpqO5",
        "outputId": "01c30464-5fbe-47c2-9ebd-abaed6ee9b40"
      },
      "execution_count": null,
      "outputs": [
        {
          "output_type": "stream",
          "name": "stdout",
          "text": [
            "[[0 1 2]\n",
            " [3 4 5]\n",
            " [6 7 8]]\n"
          ]
        }
      ]
    },
    {
      "cell_type": "code",
      "source": [
        "  #5 Arreglo numeros aleatorios de longitud 100 y obtener media y varianza\n",
        "  array_aleatorio = np.random.rand (100)\n",
        "  print (array_aleatorio)\n"
      ],
      "metadata": {
        "colab": {
          "base_uri": "https://localhost:8080/"
        },
        "id": "KNWSHuIbtOA_",
        "outputId": "0b1f8434-d5bd-45b5-96e0-b8488be31e9e"
      },
      "execution_count": null,
      "outputs": [
        {
          "output_type": "stream",
          "name": "stdout",
          "text": [
            "[6.99087229e-01 5.35369146e-01 6.90985228e-01 8.06755380e-01\n",
            " 8.60862015e-01 7.80884896e-01 4.50014944e-01 1.26916673e-01\n",
            " 8.28365962e-01 4.56153487e-01 9.48903427e-03 8.40825674e-01\n",
            " 4.44404794e-01 1.62693803e-01 4.94300126e-01 3.51859357e-04\n",
            " 7.23544742e-01 3.01559037e-01 6.77589851e-01 5.52422575e-02\n",
            " 7.27105290e-01 8.20663595e-01 5.58505818e-01 8.43608976e-03\n",
            " 3.72952977e-01 2.37159378e-01 9.58546410e-01 5.54105032e-01\n",
            " 8.70405908e-01 2.14934833e-01 3.16438735e-02 4.16502075e-01\n",
            " 3.66312963e-01 3.73638417e-01 1.67540738e-01 1.84497026e-02\n",
            " 9.25588307e-01 2.03567485e-01 9.03659086e-01 6.51825405e-01\n",
            " 4.71267710e-02 9.54836860e-01 7.25065315e-01 4.94177678e-01\n",
            " 6.04210225e-01 1.12454847e-01 5.25534303e-02 7.78695567e-01\n",
            " 4.99404961e-02 8.55566418e-01 5.34135604e-01 9.72846516e-01\n",
            " 5.96777710e-01 1.45750147e-01 2.50938739e-01 4.84870258e-01\n",
            " 2.26787590e-01 7.24580985e-01 9.35624111e-01 3.20065420e-01\n",
            " 7.36132352e-01 6.37557836e-01 9.22029012e-01 1.35682819e-02\n",
            " 5.03343227e-01 9.85249603e-01 9.16167578e-01 5.35399328e-01\n",
            " 4.94650520e-01 8.56929927e-01 8.28353408e-01 3.61760802e-01\n",
            " 9.69244614e-01 6.72578605e-01 2.12190030e-01 5.86788954e-01\n",
            " 5.95862854e-01 5.06338968e-01 1.37345947e-01 6.60577033e-01\n",
            " 3.35032362e-01 3.16684120e-01 8.06359916e-01 7.15240075e-01\n",
            " 7.13586645e-01 6.96838098e-01 8.20729550e-01 8.01178178e-01\n",
            " 7.95213685e-01 6.38450321e-01 8.77331379e-01 9.18720556e-01\n",
            " 6.87953423e-01 9.07616891e-02 1.21040207e-01 1.79846925e-01\n",
            " 8.68372969e-01 9.42058298e-01 7.10647136e-01 5.77905442e-01]\n"
          ]
        }
      ]
    },
    {
      "cell_type": "code",
      "source": [
        "      #media y varianza\n",
        "      media = np.mean (array_aleatorio)\n",
        "      print (media)\n",
        "      varianza= np.var (array_aleatorio)\n",
        "      print (varianza)"
      ],
      "metadata": {
        "colab": {
          "base_uri": "https://localhost:8080/"
        },
        "id": "20Csj5dTvZw2",
        "outputId": "f5799f61-fbc5-4f8a-b934-2145711c33f6"
      },
      "execution_count": null,
      "outputs": [
        {
          "output_type": "stream",
          "name": "stdout",
          "text": [
            "0.5393996405976317\n",
            "0.08886370383857858\n"
          ]
        }
      ]
    },
    {
      "cell_type": "code",
      "source": [
        "  #6 Media de una arreglo usando np.sum\n",
        "  suma = np.sum (array_aleatorio)\n",
        "  print (suma)\n",
        "  nro_elementos = len (array_aleatorio)\n",
        "  media =suma/nro_elementos\n",
        "  print (media)\n"
      ],
      "metadata": {
        "colab": {
          "base_uri": "https://localhost:8080/"
        },
        "id": "6GhNP555Hh6T",
        "outputId": "ece5c63c-3b43-41e4-ac7c-a11c1c30bca9"
      },
      "execution_count": null,
      "outputs": [
        {
          "output_type": "stream",
          "name": "stdout",
          "text": [
            "53.93996405976317\n",
            "0.5393996405976317\n"
          ]
        }
      ]
    },
    {
      "cell_type": "code",
      "source": [
        "  #7 calcular varianza de un arreglo usando np.sum y np.mean\n",
        "  varianza2 = np.sum ((array_aleatorio-np.mean(array_aleatorio))**2)/len(array_aleatorio)\n",
        "  print (varianza2)\n",
        "\n",
        "\n",
        "\n"
      ],
      "metadata": {
        "colab": {
          "base_uri": "https://localhost:8080/"
        },
        "id": "4ljQucn4M0Lg",
        "outputId": "9abec36b-2ade-43f2-dd45-e65b3d0d8485"
      },
      "execution_count": null,
      "outputs": [
        {
          "output_type": "stream",
          "name": "stdout",
          "text": [
            "0.08886370383857858\n"
          ]
        }
      ]
    },
    {
      "cell_type": "code",
      "source": [
        "  #8 Array de nros aleatorios usando np.random.randn\n",
        "  array_aleatorio2 = np.random.randn (50)\n",
        "  print (array_aleatorio2)"
      ],
      "metadata": {
        "colab": {
          "base_uri": "https://localhost:8080/"
        },
        "id": "gAM3Tx1qlEte",
        "outputId": "521196ee-573b-4d5f-8997-c40bec755b79"
      },
      "execution_count": null,
      "outputs": [
        {
          "output_type": "stream",
          "name": "stdout",
          "text": [
            "[-0.80801275 -0.84113735 -1.9604771  -0.14061594  0.9596112   0.85395296\n",
            "  0.09969811  0.61485228 -1.8117468  -1.65250182  0.21354154 -0.41576229\n",
            " -1.49778628  1.19057459  0.94111779 -1.71245882 -0.97895573 -0.5382835\n",
            " -0.53293462  1.1741985   0.80158022 -0.39360265  0.39927439  0.59503173\n",
            "  1.00033309  0.32906877  0.05712066 -1.32569233 -0.58249587 -1.0600578\n",
            " -0.0974581  -0.19295495 -0.24826576  0.41702905  1.6133187  -0.74091092\n",
            "  0.09317682 -1.35157198 -1.79633869  1.3484662   0.59539737  0.2850553\n",
            "  0.514449   -0.41754705 -0.81116895 -0.2004804   0.88167442  0.49300535\n",
            " -0.53314526 -1.50323916]\n"
          ]
        }
      ]
    }
  ]
}